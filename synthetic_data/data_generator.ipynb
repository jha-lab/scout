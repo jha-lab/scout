{
 "cells": [
  {
   "cell_type": "code",
   "execution_count": 1,
   "metadata": {},
   "outputs": [],
   "source": [
    "from matplotlib import pyplot as plt\n",
    "import numpy as np\n",
    "import os"
   ]
  },
  {
   "cell_type": "code",
   "execution_count": 2,
   "metadata": {},
   "outputs": [],
   "source": [
    "def simpleFunctionOne(theta,rho,T):\n",
    "    p = theta+(rho*theta)/T*np.exp(rho/T)+np.cos(2*(rho%360)*np.pi/180)+np.sin((rho%360)*np.pi/180)+np.cos(2*(rho%180)*np.pi/180)+np.sin((rho%180)*np.pi/180)\n",
    "\n",
    "    return p\n",
    "\n",
    "def simpleFunctionTwo(theta,rho,T):\n",
    "    \n",
    "    alpha=0.7\n",
    "    \n",
    "    exp_term = np.exp(-theta - rho/T -  (alpha * theta * rho/T))\n",
    "\n",
    "    p =  10.0*(1/1+exp_term)\n",
    "\n",
    "    return p\n",
    "\n",
    "def generateDataMatrix(N, T, genFunction, rowParams, colParams):\n",
    "\n",
    "    matrix = np.zeros([N, T])\n",
    "    for i in range(0, N):\n",
    "        for j in range(0, T):\n",
    "            matrix[i, j] = genFunction(rowParams[i], colParams[j],T)\n",
    "\n",
    "    return matrix\n",
    "\n",
    "\n",
    "def generateOneMetricMatrix(N, T, TrainingEnd, genFunction, rowParams, colParams, noise):\n",
    "\n",
    "    meanMatrix = generateDataMatrix(N, T, genFunction, rowParams, colParams)\n",
    "    noiseMatrix = np.random.normal(0.0, noise, [N, T])\n",
    "    observationMatrix = meanMatrix + noiseMatrix\n",
    "    return observationMatrix, meanMatrix\n"
   ]
  },
  {
   "cell_type": "code",
   "execution_count": 3,
   "metadata": {},
   "outputs": [],
   "source": [
    "def save_synthetic_data(N, T, TrainingEnd, output_dir,noise):\n",
    "    # generate metric matrices\n",
    "    genFunctionOne = simpleFunctionOne\n",
    "    genFunctionTwo = simpleFunctionTwo\n",
    "\n",
    "\n",
    "    thetaArrayParams = np.random.uniform(0.0, 1.0, N)\n",
    "\n",
    "    rowParams = thetaArrayParams\n",
    "    colParams = np.arange(T)\n",
    "\n",
    "\n",
    "    # metric 1\n",
    "    observationMatrix1, meanMatrix1= generateOneMetricMatrix(N, T, TrainingEnd, genFunctionOne,  rowParams, colParams, noise)\n",
    "\n",
    "    # metric 2\n",
    "    observationMatrix2, meanMatrix2 = generateOneMetricMatrix(N, T, TrainingEnd, genFunctionTwo, rowParams, colParams, noise)\n",
    "    \n",
    "    combined_observation = np.zeros((N,T,2))\n",
    "    mask = np.zeros((N,T,2))\n",
    "    combined_observation[:,:,0] = observationMatrix1\n",
    "    combined_observation[:,:,1] = observationMatrix2\n",
    "    np.save(output_dir+'data.npy',combined_observation)\n",
    "    np.save(output_dir+'mask.npy',mask)\n",
    "    np.save(output_dir+'obs1.npy',observationMatrix1)\n",
    "    np.save(output_dir+'obs2.npy',observationMatrix2)\n",
    "    np.save(output_dir+'mean1.npy',meanMatrix1)\n",
    "    np.save(output_dir+'mean2.npy',meanMatrix2)\n",
    "    "
   ]
  },
  {
   "cell_type": "code",
   "execution_count": 4,
   "metadata": {},
   "outputs": [
    {
     "name": "stdout",
     "output_type": "stream",
     "text": [
      "11\n",
      "11\n",
      "11\n"
     ]
    }
   ],
   "source": [
    "import os\n",
    "N = 11\n",
    "T=2000\n",
    "noise_array = [0.5,1,2]\n",
    "op_dir = './synthetic_data'\n",
    "for noise in noise_array:\n",
    "    print(N)\n",
    "    TrainingEnd = 1600\n",
    "    outfile = op_dir + f'_noise_{noise}/'\n",
    "    if not(os.path.exists(outfile)):\n",
    "        os.mkdir(outfile)\n",
    "    save_synthetic_data(N, T, TrainingEnd, outfile,noise)\n",
    "\n"
   ]
  }
 ],
 "metadata": {
  "kernelspec": {
   "display_name": "txf_design-space",
   "language": "python",
   "name": "python3"
  },
  "language_info": {
   "codemirror_mode": {
    "name": "ipython",
    "version": 3
   },
   "file_extension": ".py",
   "mimetype": "text/x-python",
   "name": "python",
   "nbconvert_exporter": "python",
   "pygments_lexer": "ipython3",
   "version": "3.8.10"
  }
 },
 "nbformat": 4,
 "nbformat_minor": 2
}
